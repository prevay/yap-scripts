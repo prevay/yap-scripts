{
 "cells": [
  {
   "cell_type": "markdown",
   "metadata": {},
   "source": [
    "## Charting trends from the Monitoring the Future dataset\n",
    "\n",
    "The trends.chart function allows you to chart time series of selected variables from the MtF dataset. \n",
    "\n",
    "The function takes a set of parameters as its input.\n",
    "\n",
    "*varcodes* - this specifies the variable, or set of variables to be charted by its code (consult the dataset's codebook for variable codes). The format is a string of text in single or double quotes. If specifying a set of variables, separate individual codes by commas (without spaces). \n",
    "\n",
    "*measure* - What measure to use for the variables. Most variables in the dataset are measured on ordinal scales from 0 to N. These scales have different meanings based on the question being asked. This parameter is a single/double-quoted string of text where the first character can be either <, > or = and the second character is a number. For example a measure specified as '>2' means calculate and display the percentage of respondents whose answer was coded with a value higher than 2 (3 and up). A measure of '=3' means calculate and display the percentage of respondents whose answer was coded with a value of 3 (again consult the codebook to se what the codes mean for each variable).\n",
    "\n",
    "*labels* - a list of labels for the variable codes as they should appear in the chart's legend (single/double-quoted string of text separated by commas)\n",
    "\n",
    "*from_date* - year (4-digit format) where the time series should start\n",
    "\n",
    "*to_date* - year (4-digit foirmat) where the times series should end\n",
    "\n",
    "*title* - the title that should be used for the chart (single/double quoted)\n",
    "\n",
    "Below is an example of how to input the parameters and run the function:"
   ]
  },
  {
   "cell_type": "code",
   "execution_count": 7,
   "metadata": {
    "scrolled": false
   },
   "outputs": [],
   "source": [
    "import trends\n",
    "trends.chart(varcodes='V2101,V2104,V2115', \n",
    "             measure='>1',\n",
    "             labels='Cigarettes,Alcohol,Marijuana',\n",
    "             from_date=2014,\n",
    "             to_date=2018,\n",
    "             title=\"% of teens that have ever used the following substances\")"
   ]
  },
  {
   "cell_type": "code",
   "execution_count": null,
   "metadata": {},
   "outputs": [],
   "source": []
  }
 ],
 "metadata": {
  "kernelspec": {
   "display_name": "Python 3",
   "language": "python",
   "name": "python3"
  },
  "language_info": {
   "codemirror_mode": {
    "name": "ipython",
    "version": 3
   },
   "file_extension": ".py",
   "mimetype": "text/x-python",
   "name": "python",
   "nbconvert_exporter": "python",
   "pygments_lexer": "ipython3",
   "version": "3.7.1"
  }
 },
 "nbformat": 4,
 "nbformat_minor": 2
}
